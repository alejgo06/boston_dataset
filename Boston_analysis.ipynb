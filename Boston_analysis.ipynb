{
 "cells": [
  {
   "cell_type": "markdown",
   "metadata": {},
   "source": [
    "# Business Understanding"
   ]
  },
  {
   "cell_type": "markdown",
   "metadata": {},
   "source": [
    "In this notebook I try to follow methodology CRISP to answer three questions.\n",
    "These questions are:\n",
    "    -  How many reviews were made per year?\n",
    "    - How is the distribution over time about number of reviews per day? there is month with more reviews, there are any season behavior?\n",
    "    - Who are the first 5 reviewer with more reviews? and what are their names?\n",
    "    - what are the most positive articles with more than 5 reviews?\n",
    "    \n",
    "First, I do a step of data understanding where I explore Nas, unique ids, data types and descriptive of the dataset.\n",
    "Second, I do the transformations required to answer these questions\n",
    "Third, I answer these questions."
   ]
  },
  {
   "cell_type": "markdown",
   "metadata": {},
   "source": [
    "# Data Understanding"
   ]
  },
  {
   "cell_type": "markdown",
   "metadata": {},
   "source": [
    "we have to import the python packages"
   ]
  },
  {
   "cell_type": "code",
   "execution_count": 1,
   "metadata": {},
   "outputs": [],
   "source": [
    "import pandas as pd\n",
    "import datetime\n",
    "import matplotlib.pyplot as plt\n",
    "from vaderSentiment.vaderSentiment import SentimentIntensityAnalyzer"
   ]
  },
  {
   "cell_type": "markdown",
   "metadata": {},
   "source": [
    "First we see the data"
   ]
  },
  {
   "cell_type": "code",
   "execution_count": 2,
   "metadata": {},
   "outputs": [
    {
     "name": "stdout",
     "output_type": "stream",
     "text": [
      "(68275, 6)\n"
     ]
    },
    {
     "data": {
      "text/html": [
       "<div>\n",
       "<style scoped>\n",
       "    .dataframe tbody tr th:only-of-type {\n",
       "        vertical-align: middle;\n",
       "    }\n",
       "\n",
       "    .dataframe tbody tr th {\n",
       "        vertical-align: top;\n",
       "    }\n",
       "\n",
       "    .dataframe thead th {\n",
       "        text-align: right;\n",
       "    }\n",
       "</style>\n",
       "<table border=\"1\" class=\"dataframe\">\n",
       "  <thead>\n",
       "    <tr style=\"text-align: right;\">\n",
       "      <th></th>\n",
       "      <th>listing_id</th>\n",
       "      <th>id</th>\n",
       "      <th>date</th>\n",
       "      <th>reviewer_id</th>\n",
       "      <th>reviewer_name</th>\n",
       "      <th>comments</th>\n",
       "    </tr>\n",
       "  </thead>\n",
       "  <tbody>\n",
       "    <tr>\n",
       "      <th>0</th>\n",
       "      <td>1178162</td>\n",
       "      <td>4724140</td>\n",
       "      <td>2013-05-21</td>\n",
       "      <td>4298113</td>\n",
       "      <td>Olivier</td>\n",
       "      <td>My stay at islam's place was really cool! Good...</td>\n",
       "    </tr>\n",
       "    <tr>\n",
       "      <th>1</th>\n",
       "      <td>1178162</td>\n",
       "      <td>4869189</td>\n",
       "      <td>2013-05-29</td>\n",
       "      <td>6452964</td>\n",
       "      <td>Charlotte</td>\n",
       "      <td>Great location for both airport and city - gre...</td>\n",
       "    </tr>\n",
       "    <tr>\n",
       "      <th>2</th>\n",
       "      <td>1178162</td>\n",
       "      <td>5003196</td>\n",
       "      <td>2013-06-06</td>\n",
       "      <td>6449554</td>\n",
       "      <td>Sebastian</td>\n",
       "      <td>We really enjoyed our stay at Islams house. Fr...</td>\n",
       "    </tr>\n",
       "    <tr>\n",
       "      <th>3</th>\n",
       "      <td>1178162</td>\n",
       "      <td>5150351</td>\n",
       "      <td>2013-06-15</td>\n",
       "      <td>2215611</td>\n",
       "      <td>Marine</td>\n",
       "      <td>The room was nice and clean and so were the co...</td>\n",
       "    </tr>\n",
       "    <tr>\n",
       "      <th>4</th>\n",
       "      <td>1178162</td>\n",
       "      <td>5171140</td>\n",
       "      <td>2013-06-16</td>\n",
       "      <td>6848427</td>\n",
       "      <td>Andrew</td>\n",
       "      <td>Great location. Just 5 mins walk from the Airp...</td>\n",
       "    </tr>\n",
       "  </tbody>\n",
       "</table>\n",
       "</div>"
      ],
      "text/plain": [
       "   listing_id       id        date  reviewer_id reviewer_name  \\\n",
       "0     1178162  4724140  2013-05-21      4298113       Olivier   \n",
       "1     1178162  4869189  2013-05-29      6452964     Charlotte   \n",
       "2     1178162  5003196  2013-06-06      6449554     Sebastian   \n",
       "3     1178162  5150351  2013-06-15      2215611        Marine   \n",
       "4     1178162  5171140  2013-06-16      6848427        Andrew   \n",
       "\n",
       "                                            comments  \n",
       "0  My stay at islam's place was really cool! Good...  \n",
       "1  Great location for both airport and city - gre...  \n",
       "2  We really enjoyed our stay at Islams house. Fr...  \n",
       "3  The room was nice and clean and so were the co...  \n",
       "4  Great location. Just 5 mins walk from the Airp...  "
      ]
     },
     "execution_count": 2,
     "metadata": {},
     "output_type": "execute_result"
    }
   ],
   "source": [
    "rev=pd.read_csv('reviews.csv')\n",
    "print(rev.shape)\n",
    "rev.head()"
   ]
  },
  {
   "cell_type": "markdown",
   "metadata": {},
   "source": [
    "Second we have to evaluate the quality of the data, repeated rows, type of variables"
   ]
  },
  {
   "cell_type": "code",
   "execution_count": 3,
   "metadata": {},
   "outputs": [
    {
     "data": {
      "text/plain": [
       "listing_id        int64\n",
       "id                int64\n",
       "date             object\n",
       "reviewer_id       int64\n",
       "reviewer_name    object\n",
       "comments         object\n",
       "dtype: object"
      ]
     },
     "execution_count": 3,
     "metadata": {},
     "output_type": "execute_result"
    }
   ],
   "source": [
    "rev.dtypes"
   ]
  },
  {
   "cell_type": "markdown",
   "metadata": {},
   "source": [
    "All the ids are in numeric which is good but we will have to transform it to string latter to merge data frames. \n",
    "\n",
    "Date are not in date format and we will have to transform it\n",
    "There are any repeated review?"
   ]
  },
  {
   "cell_type": "code",
   "execution_count": 4,
   "metadata": {},
   "outputs": [
    {
     "data": {
      "text/plain": [
       "1"
      ]
     },
     "execution_count": 4,
     "metadata": {},
     "output_type": "execute_result"
    }
   ],
   "source": [
    "max(pd.crosstab(index=rev[\"id\"],columns=\"count\")['count'])"
   ]
  },
  {
   "cell_type": "markdown",
   "metadata": {},
   "source": [
    "No there aren't any repeated review"
   ]
  },
  {
   "cell_type": "markdown",
   "metadata": {},
   "source": [
    "## NAs"
   ]
  },
  {
   "cell_type": "code",
   "execution_count": 5,
   "metadata": {},
   "outputs": [
    {
     "data": {
      "text/plain": [
       "listing_id        0\n",
       "id                0\n",
       "date              0\n",
       "reviewer_id       0\n",
       "reviewer_name     0\n",
       "comments         53\n",
       "dtype: int64"
      ]
     },
     "execution_count": 5,
     "metadata": {},
     "output_type": "execute_result"
    }
   ],
   "source": [
    "rev.isna().sum()"
   ]
  },
  {
   "cell_type": "markdown",
   "metadata": {},
   "source": [
    "there are not any NAs"
   ]
  },
  {
   "cell_type": "code",
   "execution_count": 6,
   "metadata": {},
   "outputs": [
    {
     "data": {
      "text/plain": [
       "listing_id        0\n",
       "id                0\n",
       "date              0\n",
       "reviewer_id       0\n",
       "reviewer_name     0\n",
       "comments         53\n",
       "dtype: int64"
      ]
     },
     "execution_count": 6,
     "metadata": {},
     "output_type": "execute_result"
    }
   ],
   "source": [
    "rev.isnull().sum()"
   ]
  },
  {
   "cell_type": "markdown",
   "metadata": {},
   "source": [
    "## IDs"
   ]
  },
  {
   "cell_type": "code",
   "execution_count": 7,
   "metadata": {},
   "outputs": [
    {
     "name": "stdout",
     "output_type": "stream",
     "text": [
      "There are 63789 differnt reviewers.\n",
      "There are 68275 reviews.\n",
      "There are 2829 articles.\n"
     ]
    }
   ],
   "source": [
    "print(\"There are {} differnt reviewers.\".format(str(len(rev['reviewer_id'].unique()))))\n",
    "print(\"There are {} reviews.\".format(str(len(rev['id'].unique()))))\n",
    "print(\"There are {} articles.\".format(str(len(rev['listing_id'].unique()))))"
   ]
  },
  {
   "cell_type": "markdown",
   "metadata": {},
   "source": [
    "## Categorical variables"
   ]
  },
  {
   "cell_type": "markdown",
   "metadata": {},
   "source": [
    "In this data set the only one categorical variable is the name"
   ]
  },
  {
   "cell_type": "code",
   "execution_count": 8,
   "metadata": {},
   "outputs": [
    {
     "data": {
      "text/plain": [
       "14775"
      ]
     },
     "execution_count": 8,
     "metadata": {},
     "output_type": "execute_result"
    }
   ],
   "source": [
    "len(rev['reviewer_name'].unique())"
   ]
  },
  {
   "cell_type": "markdown",
   "metadata": {},
   "source": [
    "There are 14775 different names"
   ]
  },
  {
   "cell_type": "markdown",
   "metadata": {},
   "source": [
    "# Data Preparation"
   ]
  },
  {
   "cell_type": "code",
   "execution_count": 9,
   "metadata": {},
   "outputs": [],
   "source": [
    "#we generate a new variable were is the year\n",
    "rev['year']=rev.apply(lambda x: x['date'][:4],axis=1)"
   ]
  },
  {
   "cell_type": "code",
   "execution_count": 10,
   "metadata": {},
   "outputs": [],
   "source": [
    "#we generate a new variable were is the month\n",
    "rev['month']=rev.apply(lambda x: x['date'][5:7],axis=1)"
   ]
  },
  {
   "cell_type": "code",
   "execution_count": 11,
   "metadata": {},
   "outputs": [],
   "source": [
    "#frequency table of date\n",
    "ta=pd.crosstab(index=rev[\"date\"],columns='count')\n",
    "table=pd.DataFrame([ta.index.values,ta['count']]).T\n",
    "table.columns=['date','count']"
   ]
  },
  {
   "cell_type": "code",
   "execution_count": 12,
   "metadata": {},
   "outputs": [],
   "source": [
    "#we have to tranform date variable to date format\n",
    "table['date_dateformat']=table.apply(lambda x: datetime.datetime.strptime(x['date'], '%Y-%m-%d'),axis=1)"
   ]
  },
  {
   "cell_type": "code",
   "execution_count": 13,
   "metadata": {},
   "outputs": [],
   "source": [
    "#cross table year and month\n",
    "freq_ym=pd.crosstab(index=rev['year'],columns=rev['month'])"
   ]
  },
  {
   "cell_type": "code",
   "execution_count": 14,
   "metadata": {},
   "outputs": [],
   "source": [
    "#frequency table of reviewer_id\n",
    "mostRev=pd.crosstab(index=rev[\"reviewer_id\"],columns=\"count\").sort_values(by='count', ascending=False).head()\n",
    "most_reviewers=pd.DataFrame([mostRev.index.values,mostRev['count']]).T\n",
    "most_reviewers.columns=['id','count']\n",
    "most_reviewers['id']=most_reviewers['id'].astype(str)#we have to tranform the data to merge it "
   ]
  },
  {
   "cell_type": "code",
   "execution_count": 15,
   "metadata": {},
   "outputs": [],
   "source": [
    "#we make a copy of the dataset to drop duplicates rows\n",
    "rev3=rev[['reviewer_id','reviewer_name']].copy()\n",
    "rev3=rev3.drop_duplicates()\n",
    "rev3['reviewer_id']=rev3['reviewer_id'].astype(str)"
   ]
  },
  {
   "cell_type": "markdown",
   "metadata": {},
   "source": [
    "# sentiment analysis"
   ]
  },
  {
   "cell_type": "code",
   "execution_count": 16,
   "metadata": {},
   "outputs": [],
   "source": [
    "#fill na\n",
    "rev['comments'].fillna(\" \", inplace=True)"
   ]
  },
  {
   "cell_type": "code",
   "execution_count": 17,
   "metadata": {},
   "outputs": [
    {
     "name": "stderr",
     "output_type": "stream",
     "text": [
      "/Users/alejandro.gonzalez@teradata.com/anaconda3/lib/python3.7/site-packages/ipykernel_launcher.py:28: FutureWarning: 'argmax' is deprecated, use 'idxmax' instead. The behavior of 'argmax'\n",
      "will be corrected to return the positional maximum in the future.\n",
      "Use 'series.values.argmax' to get the position of the maximum now.\n"
     ]
    }
   ],
   "source": [
    "#we init the class sentimentInitensityAnalyzer\n",
    "analyser = SentimentIntensityAnalyzer()\n",
    "#Define the function\n",
    "def sentiment_analyzer(comment):\n",
    "    '''\n",
    "    input:\n",
    "        - comment a string that will be analized by vaderSentiment\n",
    "    output \n",
    "        - highes scored sentiment (positive, negative,neutral)\n",
    "    \n",
    "    references: \n",
    "    https://medium.com/analytics-vidhya/simplifying-social-media-sentiment-analysis-using-vader-in-python-f9e6ec6fc52f\n",
    "    '''\n",
    "    sentiment=analyser.polarity_scores(comment)\n",
    "    #this function return 4 variables neg, neutral, positive and compound.\n",
    "    # - The Positive, Negative and Neutral scores represent the proportion of text that falls \n",
    "    #   in these categories. This means our sentence was rated as 67% Positive, 33% Neutral and 0% Negative. \n",
    "    #   Hence all these should add up to 1.\n",
    "    \n",
    "    # - The Compound score is a metric that calculates the sum of all the lexicon ratings \n",
    "    #   which have been normalized between -1(most extreme negative) and +1 (most extreme positive).\n",
    "    #   In the case above, lexicon ratings for andsupercool are 2.9and respectively1.3. \n",
    "    #   The compound score turns out to be 0.75 , denoting a very high positive sentiment.\n",
    "    \n",
    "    # https://medium.com/analytics-vidhya/simplifying-social-media-sentiment-analysis-using-vader-in-python-f9e6ec6fc52f\n",
    "    aux=pd.DataFrame(sentiment,index=[0])\n",
    "    aux=aux.drop(columns=['compound'])\n",
    "    score = aux.apply(lambda x: x.argmax(), axis=1)\n",
    "    return(score)\n",
    "\n",
    "\n",
    "rev['sentiment']=rev.apply(lambda x: sentiment_analyzer(x['comments']),axis=1)"
   ]
  },
  {
   "cell_type": "code",
   "execution_count": 18,
   "metadata": {},
   "outputs": [],
   "source": [
    "#cross table sentiment and user_id\n",
    "freq_sent_article=pd.crosstab(index=rev['sentiment'],columns=rev['listing_id'])"
   ]
  },
  {
   "cell_type": "code",
   "execution_count": 19,
   "metadata": {},
   "outputs": [],
   "source": [
    "def sentiment_per_article(freqtable):\n",
    "    '''\n",
    "    input freqtable:ross table sentiment and user_id\n",
    "    return a data frame with percentaje of positive columns per article.\n",
    "    \n",
    "    '''\n",
    "    \n",
    "    freqtable=freqtable.T\n",
    "    freqtable['per_neg']=freqtable['neg']/freqtable.sum(1)\n",
    "    freqtable['per_pos']=freq_sent_article.T['pos']/freq_sent_article.T.sum(1)\n",
    "    freqtable['per_neu']=freq_sent_article.T['neu']/freq_sent_article.T.sum(1)\n",
    "    freqtable['sum']=freq_sent_article.T.sum(1)\n",
    "    return(freqtable)"
   ]
  },
  {
   "cell_type": "code",
   "execution_count": 20,
   "metadata": {
    "scrolled": true
   },
   "outputs": [],
   "source": [
    "#percent of positive reviews per article\n",
    "per_positive_per=sentiment_per_article(freq_sent_article)"
   ]
  },
  {
   "cell_type": "markdown",
   "metadata": {},
   "source": [
    "# Aswewring questions"
   ]
  },
  {
   "cell_type": "markdown",
   "metadata": {},
   "source": [
    "1) How many reviews were made per year?"
   ]
  },
  {
   "cell_type": "code",
   "execution_count": 21,
   "metadata": {},
   "outputs": [
    {
     "name": "stdout",
     "output_type": "stream",
     "text": [
      "col_0  count\n",
      "year        \n",
      "2009      20\n",
      "2010     200\n",
      "2011     664\n",
      "2012    1316\n",
      "2013    2965\n",
      "2014    9272\n",
      "2015   23814\n",
      "2016   30024\n"
     ]
    },
    {
     "data": {
      "image/png": "[encoded data removed]",
      "text/plain": [
       "<Figure size 432x288 with 1 Axes>"
      ]
     },
     "metadata": {},
     "output_type": "display_data"
    }
   ],
   "source": [
    "freTable=pd.crosstab(index=rev[\"year\"],columns=\"count\")\n",
    "freTable.sort_values(by='count', ascending=False)\n",
    "print(freTable)\n",
    "\n",
    "#we plot the frequency table in a pie chart\n",
    "labels = freTable.index.values\n",
    "sizes = freTable['count']\n",
    "fig1, ax1 = plt.subplots()\n",
    "ax1.pie(sizes, labels=labels, autopct='%1.1f%%',\n",
    "        shadow=True, startangle=90)\n",
    "ax1.axis('equal')  \n",
    "plt.show()"
   ]
  },
  {
   "cell_type": "markdown",
   "metadata": {},
   "source": [
    "44% of the reviews were made in 2016\n",
    "35% of the reviews were made in 2015\n",
    "13.6% of the review were made in 2014"
   ]
  },
  {
   "cell_type": "markdown",
   "metadata": {},
   "source": [
    "2) How is the distribution over time about number of reviews per day? there are any month with more review, there are any season behavior?"
   ]
  },
  {
   "cell_type": "code",
   "execution_count": 22,
   "metadata": {},
   "outputs": [
    {
     "data": {
      "text/plain": [
       "[<matplotlib.lines.Line2D at 0x125cd5a90>]"
      ]
     },
     "execution_count": 22,
     "metadata": {},
     "output_type": "execute_result"
    },
    {
     "data": {
      "image/png": "[encoded data removed]",
      "text/plain": [
       "<Figure size 432x288 with 1 Axes>"
      ]
     },
     "metadata": {
      "needs_background": "light"
     },
     "output_type": "display_data"
    }
   ],
   "source": [
    "plt.plot_date(table['date_dateformat'], table['count'])"
   ]
  },
  {
   "cell_type": "markdown",
   "metadata": {},
   "source": [
    "This graph looks like there is a trend so the number of reviews have increased over time in the last couple of years. but it is the same in each mount in different years?"
   ]
  },
  {
   "cell_type": "code",
   "execution_count": 23,
   "metadata": {},
   "outputs": [
    {
     "data": {
      "text/html": [
       "<div>\n",
       "<style scoped>\n",
       "    .dataframe tbody tr th:only-of-type {\n",
       "        vertical-align: middle;\n",
       "    }\n",
       "\n",
       "    .dataframe tbody tr th {\n",
       "        vertical-align: top;\n",
       "    }\n",
       "\n",
       "    .dataframe thead th {\n",
       "        text-align: right;\n",
       "    }\n",
       "</style>\n",
       "<table border=\"1\" class=\"dataframe\">\n",
       "  <thead>\n",
       "    <tr style=\"text-align: right;\">\n",
       "      <th>month</th>\n",
       "      <th>01</th>\n",
       "      <th>02</th>\n",
       "      <th>03</th>\n",
       "      <th>04</th>\n",
       "      <th>05</th>\n",
       "      <th>06</th>\n",
       "      <th>07</th>\n",
       "      <th>08</th>\n",
       "      <th>09</th>\n",
       "      <th>10</th>\n",
       "      <th>11</th>\n",
       "      <th>12</th>\n",
       "    </tr>\n",
       "    <tr>\n",
       "      <th>year</th>\n",
       "      <th></th>\n",
       "      <th></th>\n",
       "      <th></th>\n",
       "      <th></th>\n",
       "      <th></th>\n",
       "      <th></th>\n",
       "      <th></th>\n",
       "      <th></th>\n",
       "      <th></th>\n",
       "      <th></th>\n",
       "      <th></th>\n",
       "      <th></th>\n",
       "    </tr>\n",
       "  </thead>\n",
       "  <tbody>\n",
       "    <tr>\n",
       "      <th>2009</th>\n",
       "      <td>0</td>\n",
       "      <td>0</td>\n",
       "      <td>1</td>\n",
       "      <td>1</td>\n",
       "      <td>1</td>\n",
       "      <td>0</td>\n",
       "      <td>1</td>\n",
       "      <td>2</td>\n",
       "      <td>3</td>\n",
       "      <td>6</td>\n",
       "      <td>3</td>\n",
       "      <td>2</td>\n",
       "    </tr>\n",
       "    <tr>\n",
       "      <th>2010</th>\n",
       "      <td>2</td>\n",
       "      <td>3</td>\n",
       "      <td>3</td>\n",
       "      <td>2</td>\n",
       "      <td>11</td>\n",
       "      <td>8</td>\n",
       "      <td>13</td>\n",
       "      <td>31</td>\n",
       "      <td>37</td>\n",
       "      <td>59</td>\n",
       "      <td>25</td>\n",
       "      <td>6</td>\n",
       "    </tr>\n",
       "    <tr>\n",
       "      <th>2011</th>\n",
       "      <td>17</td>\n",
       "      <td>7</td>\n",
       "      <td>20</td>\n",
       "      <td>39</td>\n",
       "      <td>44</td>\n",
       "      <td>56</td>\n",
       "      <td>37</td>\n",
       "      <td>78</td>\n",
       "      <td>102</td>\n",
       "      <td>150</td>\n",
       "      <td>90</td>\n",
       "      <td>24</td>\n",
       "    </tr>\n",
       "    <tr>\n",
       "      <th>2012</th>\n",
       "      <td>31</td>\n",
       "      <td>31</td>\n",
       "      <td>93</td>\n",
       "      <td>126</td>\n",
       "      <td>132</td>\n",
       "      <td>157</td>\n",
       "      <td>133</td>\n",
       "      <td>134</td>\n",
       "      <td>145</td>\n",
       "      <td>186</td>\n",
       "      <td>89</td>\n",
       "      <td>59</td>\n",
       "    </tr>\n",
       "    <tr>\n",
       "      <th>2013</th>\n",
       "      <td>54</td>\n",
       "      <td>35</td>\n",
       "      <td>91</td>\n",
       "      <td>141</td>\n",
       "      <td>232</td>\n",
       "      <td>283</td>\n",
       "      <td>295</td>\n",
       "      <td>395</td>\n",
       "      <td>396</td>\n",
       "      <td>548</td>\n",
       "      <td>316</td>\n",
       "      <td>179</td>\n",
       "    </tr>\n",
       "    <tr>\n",
       "      <th>2014</th>\n",
       "      <td>124</td>\n",
       "      <td>135</td>\n",
       "      <td>273</td>\n",
       "      <td>600</td>\n",
       "      <td>713</td>\n",
       "      <td>775</td>\n",
       "      <td>890</td>\n",
       "      <td>1203</td>\n",
       "      <td>1504</td>\n",
       "      <td>1495</td>\n",
       "      <td>1080</td>\n",
       "      <td>480</td>\n",
       "    </tr>\n",
       "    <tr>\n",
       "      <th>2015</th>\n",
       "      <td>500</td>\n",
       "      <td>391</td>\n",
       "      <td>1062</td>\n",
       "      <td>1410</td>\n",
       "      <td>2291</td>\n",
       "      <td>2307</td>\n",
       "      <td>2587</td>\n",
       "      <td>2783</td>\n",
       "      <td>3204</td>\n",
       "      <td>3651</td>\n",
       "      <td>2126</td>\n",
       "      <td>1502</td>\n",
       "    </tr>\n",
       "    <tr>\n",
       "      <th>2016</th>\n",
       "      <td>1391</td>\n",
       "      <td>1362</td>\n",
       "      <td>2310</td>\n",
       "      <td>3797</td>\n",
       "      <td>4691</td>\n",
       "      <td>4783</td>\n",
       "      <td>5377</td>\n",
       "      <td>5719</td>\n",
       "      <td>594</td>\n",
       "      <td>0</td>\n",
       "      <td>0</td>\n",
       "      <td>0</td>\n",
       "    </tr>\n",
       "  </tbody>\n",
       "</table>\n",
       "</div>"
      ],
      "text/plain": [
       "month    01    02    03    04    05    06    07    08    09    10    11    12\n",
       "year                                                                         \n",
       "2009      0     0     1     1     1     0     1     2     3     6     3     2\n",
       "2010      2     3     3     2    11     8    13    31    37    59    25     6\n",
       "2011     17     7    20    39    44    56    37    78   102   150    90    24\n",
       "2012     31    31    93   126   132   157   133   134   145   186    89    59\n",
       "2013     54    35    91   141   232   283   295   395   396   548   316   179\n",
       "2014    124   135   273   600   713   775   890  1203  1504  1495  1080   480\n",
       "2015    500   391  1062  1410  2291  2307  2587  2783  3204  3651  2126  1502\n",
       "2016   1391  1362  2310  3797  4691  4783  5377  5719   594     0     0     0"
      ]
     },
     "execution_count": 23,
     "metadata": {},
     "output_type": "execute_result"
    }
   ],
   "source": [
    "freq_ym"
   ]
  },
  {
   "cell_type": "code",
   "execution_count": 24,
   "metadata": {},
   "outputs": [
    {
     "data": {
      "image/png": "[encoded data removed]",
      "text/plain": [
       "<Figure size 432x288 with 8 Axes>"
      ]
     },
     "metadata": {
      "needs_background": "light"
     },
     "output_type": "display_data"
    }
   ],
   "source": [
    "for i in range(freq_ym.shape[0]):\n",
    "    plt.subplot(12, 1, i+1)\n",
    "    plt.title(freq_ym.index.values[i])\n",
    "    plt.plot(freq_ym.iloc[i,])\n",
    "plt.show()"
   ]
  },
  {
   "cell_type": "markdown",
   "metadata": {},
   "source": [
    "There is a repetitive behavior over time, every October the Number of reviews increases. The last 5 obs are 0 because we don't have data. I mean, the extraction of this csv was on September 2016 so It is so we don't know the number of reviews one month after the dataset was generated."
   ]
  },
  {
   "cell_type": "markdown",
   "metadata": {},
   "source": [
    "3) Who are the first 5 reviewer with more reviews? and what are their names?"
   ]
  },
  {
   "cell_type": "code",
   "execution_count": 25,
   "metadata": {},
   "outputs": [
    {
     "data": {
      "text/html": [
       "<div>\n",
       "<style scoped>\n",
       "    .dataframe tbody tr th:only-of-type {\n",
       "        vertical-align: middle;\n",
       "    }\n",
       "\n",
       "    .dataframe tbody tr th {\n",
       "        vertical-align: top;\n",
       "    }\n",
       "\n",
       "    .dataframe thead th {\n",
       "        text-align: right;\n",
       "    }\n",
       "</style>\n",
       "<table border=\"1\" class=\"dataframe\">\n",
       "  <thead>\n",
       "    <tr style=\"text-align: right;\">\n",
       "      <th></th>\n",
       "      <th>id</th>\n",
       "      <th>count</th>\n",
       "      <th>reviewer_id</th>\n",
       "      <th>reviewer_name</th>\n",
       "    </tr>\n",
       "  </thead>\n",
       "  <tbody>\n",
       "    <tr>\n",
       "      <th>0</th>\n",
       "      <td>12096536</td>\n",
       "      <td>37</td>\n",
       "      <td>12096536</td>\n",
       "      <td>Marie</td>\n",
       "    </tr>\n",
       "    <tr>\n",
       "      <th>1</th>\n",
       "      <td>40651868</td>\n",
       "      <td>25</td>\n",
       "      <td>40651868</td>\n",
       "      <td>Harry</td>\n",
       "    </tr>\n",
       "    <tr>\n",
       "      <th>2</th>\n",
       "      <td>46024609</td>\n",
       "      <td>22</td>\n",
       "      <td>46024609</td>\n",
       "      <td>Joseph</td>\n",
       "    </tr>\n",
       "    <tr>\n",
       "      <th>3</th>\n",
       "      <td>52667131</td>\n",
       "      <td>21</td>\n",
       "      <td>52667131</td>\n",
       "      <td>Richard</td>\n",
       "    </tr>\n",
       "    <tr>\n",
       "      <th>4</th>\n",
       "      <td>39441871</td>\n",
       "      <td>18</td>\n",
       "      <td>39441871</td>\n",
       "      <td>Doron</td>\n",
       "    </tr>\n",
       "  </tbody>\n",
       "</table>\n",
       "</div>"
      ],
      "text/plain": [
       "         id  count reviewer_id reviewer_name\n",
       "0  12096536     37    12096536         Marie\n",
       "1  40651868     25    40651868         Harry\n",
       "2  46024609     22    46024609        Joseph\n",
       "3  52667131     21    52667131       Richard\n",
       "4  39441871     18    39441871         Doron"
      ]
     },
     "execution_count": 25,
     "metadata": {},
     "output_type": "execute_result"
    }
   ],
   "source": [
    "most_reviewers.merge(rev3, left_on='id',right_on='reviewer_id')"
   ]
  },
  {
   "cell_type": "markdown",
   "metadata": {},
   "source": [
    "Marie made 37 reviews\n",
    "\n",
    "Harry 25 reviews\n",
    "\n",
    "Joseph 22 reviews\n",
    "\n",
    "Richard 21 and Doron 18."
   ]
  },
  {
   "cell_type": "markdown",
   "metadata": {},
   "source": [
    "4) what are the most positive articles with more than 5 reviews?\n"
   ]
  },
  {
   "cell_type": "code",
   "execution_count": 26,
   "metadata": {},
   "outputs": [
    {
     "data": {
      "text/html": [
       "<div>\n",
       "<style scoped>\n",
       "    .dataframe tbody tr th:only-of-type {\n",
       "        vertical-align: middle;\n",
       "    }\n",
       "\n",
       "    .dataframe tbody tr th {\n",
       "        vertical-align: top;\n",
       "    }\n",
       "\n",
       "    .dataframe thead th {\n",
       "        text-align: right;\n",
       "    }\n",
       "</style>\n",
       "<table border=\"1\" class=\"dataframe\">\n",
       "  <thead>\n",
       "    <tr style=\"text-align: right;\">\n",
       "      <th>sentiment</th>\n",
       "      <th>neg</th>\n",
       "      <th>neu</th>\n",
       "      <th>pos</th>\n",
       "      <th>per_neg</th>\n",
       "      <th>per_pos</th>\n",
       "      <th>per_neu</th>\n",
       "      <th>sum</th>\n",
       "    </tr>\n",
       "    <tr>\n",
       "      <th>listing_id</th>\n",
       "      <th></th>\n",
       "      <th></th>\n",
       "      <th></th>\n",
       "      <th></th>\n",
       "      <th></th>\n",
       "      <th></th>\n",
       "      <th></th>\n",
       "    </tr>\n",
       "  </thead>\n",
       "  <tbody>\n",
       "    <tr>\n",
       "      <th>3353</th>\n",
       "      <td>0</td>\n",
       "      <td>31</td>\n",
       "      <td>3</td>\n",
       "      <td>0.0</td>\n",
       "      <td>0.088235</td>\n",
       "      <td>0.911765</td>\n",
       "      <td>34</td>\n",
       "    </tr>\n",
       "    <tr>\n",
       "      <th>5506</th>\n",
       "      <td>0</td>\n",
       "      <td>34</td>\n",
       "      <td>2</td>\n",
       "      <td>0.0</td>\n",
       "      <td>0.055556</td>\n",
       "      <td>0.944444</td>\n",
       "      <td>36</td>\n",
       "    </tr>\n",
       "    <tr>\n",
       "      <th>6695</th>\n",
       "      <td>0</td>\n",
       "      <td>46</td>\n",
       "      <td>1</td>\n",
       "      <td>0.0</td>\n",
       "      <td>0.021277</td>\n",
       "      <td>0.978723</td>\n",
       "      <td>47</td>\n",
       "    </tr>\n",
       "    <tr>\n",
       "      <th>6976</th>\n",
       "      <td>0</td>\n",
       "      <td>39</td>\n",
       "      <td>2</td>\n",
       "      <td>0.0</td>\n",
       "      <td>0.048780</td>\n",
       "      <td>0.951220</td>\n",
       "      <td>41</td>\n",
       "    </tr>\n",
       "    <tr>\n",
       "      <th>8792</th>\n",
       "      <td>0</td>\n",
       "      <td>17</td>\n",
       "      <td>1</td>\n",
       "      <td>0.0</td>\n",
       "      <td>0.055556</td>\n",
       "      <td>0.944444</td>\n",
       "      <td>18</td>\n",
       "    </tr>\n",
       "  </tbody>\n",
       "</table>\n",
       "</div>"
      ],
      "text/plain": [
       "sentiment   neg  neu  pos  per_neg   per_pos   per_neu  sum\n",
       "listing_id                                                 \n",
       "3353          0   31    3      0.0  0.088235  0.911765   34\n",
       "5506          0   34    2      0.0  0.055556  0.944444   36\n",
       "6695          0   46    1      0.0  0.021277  0.978723   47\n",
       "6976          0   39    2      0.0  0.048780  0.951220   41\n",
       "8792          0   17    1      0.0  0.055556  0.944444   18"
      ]
     },
     "execution_count": 26,
     "metadata": {},
     "output_type": "execute_result"
    }
   ],
   "source": [
    "per_positive_per.head(5)"
   ]
  },
  {
   "cell_type": "markdown",
   "metadata": {},
   "source": [
    "The most positive articles are:\n",
    "    - 3353\n",
    "    - 5506\n",
    "    - 6695\n",
    "    - 6976\n",
    "    - 8792"
   ]
  }
 ],
 "metadata": {
  "kernelspec": {
   "display_name": "Python 3",
   "language": "python",
   "name": "python3"
  },
  "language_info": {
   "codemirror_mode": {
    "name": "ipython",
    "version": 3
   },
   "file_extension": ".py",
   "mimetype": "text/x-python",
   "name": "python",
   "nbconvert_exporter": "python",
   "pygments_lexer": "ipython3",
   "version": "3.7.0"
  }
 },
 "nbformat": 4,
 "nbformat_minor": 2
}
